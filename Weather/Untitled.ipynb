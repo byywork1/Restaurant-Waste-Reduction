{
 "cells": [
  {
   "cell_type": "markdown",
   "id": "711b00b5",
   "metadata": {},
   "source": [
    "# Daily Weather EDA "
   ]
  },
  {
   "cell_type": "code",
   "execution_count": 4,
   "id": "1280d68a",
   "metadata": {},
   "outputs": [
    {
     "name": "stdout",
     "output_type": "stream",
     "text": [
      "                        date  apparent_temperature_max  \\\n",
      "0  2023-06-01 04:00:00+00:00                 29.684107   \n",
      "1  2023-06-02 04:00:00+00:00                 22.607117   \n",
      "2  2023-06-03 04:00:00+00:00                 22.945555   \n",
      "3  2023-06-04 04:00:00+00:00                 23.885506   \n",
      "4  2023-06-05 04:00:00+00:00                 22.793442   \n",
      "\n",
      "   apparent_temperature_min  apparent_temperature_mean  sunrise  sunset  \\\n",
      "0                 10.912403                  19.173944        0       0   \n",
      "1                  3.836035                  13.446162        0       0   \n",
      "2                  1.966888                  13.472855        0       0   \n",
      "3                 -1.116672                  10.072239        0       0   \n",
      "4                  3.575657                  12.288624        0       0   \n",
      "\n",
      "   daylight_duration  sunshine_duration  precipitation_sum  rain_sum  \\\n",
      "0          51907.418          36000.000           0.094488       0.0   \n",
      "1          51964.082          24776.424           0.133858       0.0   \n",
      "2          52017.910          32471.480           0.362205       0.0   \n",
      "3          52068.820          48549.710           0.000000       0.0   \n",
      "4          52116.695          48581.383           0.000000       0.0   \n",
      "\n",
      "   snowfall_sum  precipitation_hours  wind_speed_10m_max  wind_gusts_10m_max  \\\n",
      "0      0.661417                 12.0            3.414632           17.001200   \n",
      "1      0.992126                 17.0            6.056448           20.133000   \n",
      "2      2.535433                 17.0            4.297137           16.106400   \n",
      "3      0.000000                  0.0            3.957657           16.330101   \n",
      "4      0.000000                  0.0            4.032809           12.079801   \n",
      "\n",
      "   wind_direction_10m_dominant  \n",
      "0                   289.113040  \n",
      "1                     2.823933  \n",
      "2                   333.221220  \n",
      "3                   234.782270  \n",
      "4                   205.559900  \n"
     ]
    }
   ],
   "source": [
    "import pandas as pd\n",
    "\n",
    "df = pd.read_csv('Weather CSV/Weather_daily.csv')\n",
    "\n",
    "print(df.head())\n"
   ]
  }
 ],
 "metadata": {
  "kernelspec": {
   "display_name": "Python 3 (ipykernel)",
   "language": "python",
   "name": "python3"
  },
  "language_info": {
   "codemirror_mode": {
    "name": "ipython",
    "version": 3
   },
   "file_extension": ".py",
   "mimetype": "text/x-python",
   "name": "python",
   "nbconvert_exporter": "python",
   "pygments_lexer": "ipython3",
   "version": "3.11.5"
  }
 },
 "nbformat": 4,
 "nbformat_minor": 5
}
